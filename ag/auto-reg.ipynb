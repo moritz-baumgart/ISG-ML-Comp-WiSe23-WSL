{
 "cells": [
  {
   "cell_type": "code",
   "execution_count": 10,
   "metadata": {},
   "outputs": [],
   "source": [
    "from mlcomp.data.load import load_regression_train\n",
    "from sklearn.model_selection import train_test_split\n",
    "from mlcomp.data.preprocess import drop_ft2, remove_outliers\n",
    "from autogluon.tabular import TabularPredictor"
   ]
  },
  {
   "cell_type": "code",
   "execution_count": 11,
   "metadata": {},
   "outputs": [],
   "source": [
    "df = load_regression_train()\n",
    "# remove everything prior 01-01-2014\n",
    "df = df[df[\"timestamp\"] > 1388530800000]\n",
    "\n",
    "train, test = train_test_split(df, test_size=0.1)"
   ]
  },
  {
   "cell_type": "code",
   "execution_count": null,
   "metadata": {},
   "outputs": [],
   "source": [
    "predictor = TabularPredictor(\n",
    "    \"rating\", eval_metric=\"root_mean_squared_error\", problem_type=\"regression\"\n",
    ")\n",
    "\n",
    "predictor.fit(\n",
    "    train,\n",
    "    presets=\"best_quality\",\n",
    "    time_limit=7.5 * 60 * 60,  # 7.5h limit, I dont have more time\n",
    ")\n",
    "\n",
    "print(predictor.evaluate(test))"
   ]
  }
 ],
 "metadata": {
  "kernelspec": {
   "display_name": "ag",
   "language": "python",
   "name": "python3"
  },
  "language_info": {
   "codemirror_mode": {
    "name": "ipython",
    "version": 3
   },
   "file_extension": ".py",
   "mimetype": "text/x-python",
   "name": "python",
   "nbconvert_exporter": "python",
   "pygments_lexer": "ipython3",
   "version": "3.11.7"
  }
 },
 "nbformat": 4,
 "nbformat_minor": 2
}
