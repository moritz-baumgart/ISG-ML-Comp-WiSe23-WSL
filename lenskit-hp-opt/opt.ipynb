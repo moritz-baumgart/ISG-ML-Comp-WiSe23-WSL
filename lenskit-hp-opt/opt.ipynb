{
 "cells": [
  {
   "cell_type": "code",
   "execution_count": 1,
   "metadata": {},
   "outputs": [],
   "source": [
    "from mlcomp.data.load import load_regression_train\n",
    "from lenskit.algorithms import als, funksvd\n",
    "from lenskit import batch, crossfold as xf\n",
    "from lenskit.metrics.predict import rmse\n",
    "from ConfigSpace import Configuration, ConfigurationSpace\n",
    "from smac import Scenario, HyperparameterOptimizationFacade\n",
    "from pathlib import Path"
   ]
  },
  {
   "cell_type": "code",
   "execution_count": 2,
   "metadata": {},
   "outputs": [],
   "source": [
    "df = load_regression_train()\n",
    "\n",
    "# remove everything before 01-01-2014\n",
    "df = df.loc[df['timestamp'] > 1388530800 * 1000]"
   ]
  },
  {
   "cell_type": "code",
   "execution_count": 3,
   "metadata": {},
   "outputs": [],
   "source": [
    "# generate train test split\n",
    "ttpair_gen = xf.partition_users(df, 2, xf.SampleFrac(0.15))\n",
    "ttpair = ttpair_gen.__next__()\n",
    "\n",
    "train = ttpair.train\n",
    "test = ttpair.test\n",
    "\n",
    "\n",
    "X_val = test.drop(columns=['rating'])\n",
    "y_val = test['rating']"
   ]
  },
  {
   "cell_type": "code",
   "execution_count": 4,
   "metadata": {},
   "outputs": [],
   "source": [
    "def train_fn(config: Configuration, seed: int) -> float:\n",
    "    \n",
    "    model = als.BiasedMF(\n",
    "        features=config['features'],\n",
    "        iterations=config['iterations'],\n",
    "        reg=config['reg'],\n",
    "        damping=config['damping'],\n",
    "        rng_spec=seed\n",
    "    )\n",
    "    model.fit(train)\n",
    "\n",
    "    pred = batch.predict(model, X_val)\n",
    "\n",
    "    # lenskit messed up the index but keeps the order, so we can fix it like this:\n",
    "    pred.index = X_val.index\n",
    "\n",
    "    return rmse(pred['prediction'], y_val) \n"
   ]
  },
  {
   "cell_type": "code",
   "execution_count": null,
   "metadata": {},
   "outputs": [],
   "source": [
    "cs = ConfigurationSpace({\n",
    "    'features': (10, 100),\n",
    "    'iterations': (10, 100),\n",
    "    'reg': (0.001, 0.1),\n",
    "    'damping': (1, 8),\n",
    "})\n",
    "\n",
    "scenario = Scenario(\n",
    "    configspace=cs,\n",
    "    n_trials=400,\n",
    "    walltime_limit=3600,\n",
    "    n_workers=2,\n",
    "    output_directory=Path(f\"smac3_BiasedMF\"),\n",
    ")\n",
    "\n",
    "smac = HyperparameterOptimizationFacade(scenario=scenario, target_function=train_fn)\n",
    "\n",
    "incumbent = smac.optimize()"
   ]
  },
  {
   "cell_type": "code",
   "execution_count": 6,
   "metadata": {},
   "outputs": [
    {
     "data": {
      "text/plain": [
       "Configuration(values={\n",
       "  'damping': 5,\n",
       "  'features': 67,\n",
       "  'iterations': 23,\n",
       "  'reg': 0.09358052502945066,\n",
       "})"
      ]
     },
     "execution_count": 6,
     "metadata": {},
     "output_type": "execute_result"
    }
   ],
   "source": [
    "incumbent"
   ]
  },
  {
   "cell_type": "markdown",
   "metadata": {},
   "source": [
    "### Doc\n",
    "\n",
    "\n",
    "#### Run 1:\n",
    "- BiasedMF\n",
    "- CS:\n",
    "  ```Python\n",
    "  ConfigurationSpace({\n",
    "      'features': (10, 100),\n",
    "      'iterations': (10, 100),\n",
    "      'reg': (0.001, 0.1),\n",
    "      'damping': (1, 8),\n",
    "  })\n",
    "  ```\n",
    "- Stopped because of time limit\n",
    "- 339/400 trials left\n",
    "- Config:\n",
    "  ```Python\n",
    "  Configuration(values={\n",
    "    'damping': 5,\n",
    "    'features': 67,\n",
    "    'iterations': 23,\n",
    "    'reg': 0.09358052502945066,\n",
    "  })\n",
    "  ```"
   ]
  },
  {
   "cell_type": "markdown",
   "metadata": {},
   "source": [
    "\n"
   ]
  }
 ],
 "metadata": {
  "kernelspec": {
   "display_name": "SMAC",
   "language": "python",
   "name": "python3"
  },
  "language_info": {
   "codemirror_mode": {
    "name": "ipython",
    "version": 3
   },
   "file_extension": ".py",
   "mimetype": "text/x-python",
   "name": "python",
   "nbconvert_exporter": "python",
   "pygments_lexer": "ipython3",
   "version": "3.10.13"
  }
 },
 "nbformat": 4,
 "nbformat_minor": 2
}
