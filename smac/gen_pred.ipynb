{
 "cells": [
  {
   "cell_type": "code",
   "execution_count": 156,
   "metadata": {},
   "outputs": [],
   "source": [
    "from mlcomp.data.load import load_classification_test, load_classification_train\n",
    "from mlcomp.data import preprocess\n",
    "from mlcomp.util import get_categorical_labels\n",
    "from sklearn.ensemble import HistGradientBoostingClassifier, GradientBoostingClassifier\n",
    "from sklearn.svm import SVC\n",
    "from sklearn.neural_network import MLPClassifier\n",
    "from sklearn.preprocessing import StandardScaler\n",
    "from sklearn.model_selection import cross_val_score\n",
    "from imblearn.over_sampling import SMOTE\n",
    "from xgboost import XGBClassifier, XGBRFClassifier\n",
    "from catboost import CatBoostClassifier\n",
    "import pandas as pd"
   ]
  },
  {
   "cell_type": "code",
   "execution_count": 157,
   "metadata": {},
   "outputs": [],
   "source": [
    "test = load_classification_test()\n",
    "test = preprocess.drop_ft2(test)\n",
    "test = preprocess.remove_outliers(test, handling_method=preprocess.HandlingMethod.CAP_AT_MIN_MAX)\n",
    "#test = StandardScaler().fit_transform(test)\n",
    "\n",
    "train = load_classification_train()\n",
    "train = preprocess.drop_ft2(train)\n",
    "train = preprocess.remove_outliers(train, handling_method=preprocess.HandlingMethod.CAP_AT_MIN_MAX)\n",
    "\n",
    "X_train = train.drop(columns='label')\n",
    "y_train = train['label']\n",
    "\n",
    "#X_train, y_train = SMOTE().fit_resample(X_train, y_train)\n",
    "\n",
    "#X_train = StandardScaler().fit_transform(X_train)"
   ]
  },
  {
   "cell_type": "code",
   "execution_count": 158,
   "metadata": {},
   "outputs": [],
   "source": [
    "values={\n",
    "  'l2_regularization': 0.010781990505819624,\n",
    "  'learning_rate': 0.21667124489360576,\n",
    "  'max_bins': 8,\n",
    "  'max_depth': 19,\n",
    "  'max_iter': 132,\n",
    "  'max_leaf_nodes': 33,\n",
    "  'min_samples_leaf': 3,\n",
    "}\n",
    "\n",
    "clf = HistGradientBoostingClassifier()#categorical_features=get_categorical_labels())\n",
    "#clf = XGBRFClassifier()\n",
    "#clf = CatBoostClassifier(eval_metric=\"TotalF1\", per_float_feature_quantization=[f'{x}:border_count=1024' for x in (9, 15, 23)])\n",
    "# clf = GradientBoostingClassifier()\n",
    "# clf = SVC()\n",
    "#clf = MLPClassifier()\n",
    "clf.set_params(**values)\n",
    "\n",
    "clf.fit(X_train, y_train)\n",
    "prediction = clf.predict(test)\n",
    "df = pd.DataFrame(prediction, columns=[\"label\"])\n",
    "df.to_csv(\"pred.csv\", index_label=\"Id\")"
   ]
  },
  {
   "cell_type": "code",
   "execution_count": 159,
   "metadata": {},
   "outputs": [
    {
     "data": {
      "text/plain": [
       "0.7910428493279069"
      ]
     },
     "execution_count": 159,
     "metadata": {},
     "output_type": "execute_result"
    }
   ],
   "source": [
    "cross_val_score(clf, X_train, y_train, scoring='f1_macro').mean()"
   ]
  }
 ],
 "metadata": {
  "kernelspec": {
   "display_name": "SMAC",
   "language": "python",
   "name": "python3"
  },
  "language_info": {
   "codemirror_mode": {
    "name": "ipython",
    "version": 3
   },
   "file_extension": ".py",
   "mimetype": "text/x-python",
   "name": "python",
   "nbconvert_exporter": "python",
   "pygments_lexer": "ipython3",
   "version": "3.10.13"
  }
 },
 "nbformat": 4,
 "nbformat_minor": 2
}
