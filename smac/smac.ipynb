{
 "cells": [
  {
   "cell_type": "code",
   "execution_count": null,
   "metadata": {},
   "outputs": [],
   "source": [
    "from smac import Scenario, HyperparameterOptimizationFacade, MultiFidelityFacade\n",
    "from sklearn.ensemble import HistGradientBoostingClassifier, GradientBoostingClassifier\n",
    "from xgboost import XGBClassifier, XGBRFClassifier\n",
    "from catboost import CatBoostClassifier\n",
    "from lightgbm import LGBMClassifier\n",
    "from sklearn.model_selection import train_test_split, cross_validate, cross_val_score\n",
    "from sklearn.metrics import f1_score\n",
    "from imblearn.pipeline import make_pipeline\n",
    "from sklearn.preprocessing import StandardScaler\n",
    "from sklearn.svm import SVC\n",
    "from sklearn.neural_network import MLPClassifier\n",
    "from imblearn.over_sampling import ADASYN, SMOTE\n",
    "from mlcomp.util import get_categorical_labels\n",
    "from mlcomp.data.load import load_classification_train\n",
    "from mlcomp.data import preprocess\n",
    "from default_cs import get_default_cs\n",
    "from ConfigSpace import Configuration, ConfigurationSpace\n",
    "from datetime import datetime\n",
    "from pathlib import Path"
   ]
  },
  {
   "cell_type": "code",
   "execution_count": 2,
   "metadata": {},
   "outputs": [],
   "source": [
    "\n",
    "df = load_classification_train()\n",
    "df = preprocess.drop_ft2(df)\n",
    "df = preprocess.remove_outliers(df, handling_method=preprocess.HandlingMethod.CAP_AT_MIN_MAX)\n",
    "\n",
    "X = df.drop(columns='label')\n",
    "y = df['label']\n",
    "\n",
    "# THIS IS WRONG! Read doc.md for more info! X, y = SMOTE().fit_resample(X, y)\n",
    "\n",
    "# X = StandardScaler().fit_transform(X)\n",
    "\n",
    "X_train, X_test, y_train, y_test = train_test_split(X, y, test_size=0.1)\n",
    "\n",
    "X_train, y_train = SMOTE().fit_resample(X_train, y_train)"
   ]
  },
  {
   "cell_type": "code",
   "execution_count": 3,
   "metadata": {},
   "outputs": [],
   "source": [
    "# The following function creates the training function used by SMAC.\n",
    "# You can configure it here:\n",
    "################\n",
    "DO_CV = True\n",
    "CV = 5\n",
    "DO_SMOTE_IN_CV = True\n",
    "################\n",
    "\n",
    "\n",
    "def make_train(algo):\n",
    "    def train(config: Configuration, seed: int) -> float:\n",
    "        clf = algo(random_state=seed)\n",
    "        clf.set_params(**config)\n",
    "\n",
    "        if DO_CV:\n",
    "            if DO_SMOTE_IN_CV:\n",
    "                pipe = make_pipeline(SMOTE(), clf)\n",
    "                cv_result = cross_val_score(pipe, X, y, scoring=\"f1_macro\", cv=CV)\n",
    "            else:\n",
    "                cv_result = cross_val_score(clf, X, y, scoring=\"f1_macro\", cv=CV)\n",
    "            mean_f1 = cv_result.mean()\n",
    "            return 1 - mean_f1\n",
    "        else:\n",
    "            clf.fit(X_train, y_train)\n",
    "            prediction = clf.predict(X_test)\n",
    "            return 1 - f1_score(y_test, prediction)\n",
    "\n",
    "    return train"
   ]
  },
  {
   "cell_type": "code",
   "execution_count": null,
   "metadata": {},
   "outputs": [],
   "source": [
    "# I originally planned that this file will run SMAC for different algorithms at once and then show the best at the end.\n",
    "# Turns out that this was not the best idea, so I just commented everything in the list except the one I currently want to optimize.\n",
    "\n",
    "algos = [\n",
    "    # HistGradientBoostingClassifier,\n",
    "    # XGBClassifier,\n",
    "    # XGBRFClassifier,\n",
    "    # CatBoostClassifier,\n",
    "    # GradientBoostingClassifier,\n",
    "    MLPClassifier,\n",
    "]\n",
    "\n",
    "incumbents = []\n",
    "\n",
    "for algo in algos:\n",
    "    print(f\"### STARTING SMAC FOR {algo.__name__} ###\")\n",
    "    train = make_train(algo)\n",
    "    cs = get_default_cs(algo)\n",
    "    scenario = Scenario(\n",
    "        configspace=cs,\n",
    "        n_trials=400,\n",
    "        walltime_limit=7200,\n",
    "        min_budget=100,\n",
    "        max_budget=1000,\n",
    "        n_workers=8,\n",
    "        output_directory=Path(f\"smac3_{algo.__name__}\"),\n",
    "    )\n",
    "\n",
    "    smac = HyperparameterOptimizationFacade(scenario=scenario, target_function=train)\n",
    "\n",
    "    incumbents.append(smac.optimize())\n",
    "    print(f\"### SMAC FINISHED FOR {algo.__name__} ###\")"
   ]
  },
  {
   "cell_type": "code",
   "execution_count": 6,
   "metadata": {},
   "outputs": [
    {
     "data": {
      "text/plain": [
       "[Configuration(values={\n",
       "   'activation': 'logistic',\n",
       "   'alpha': 0.0006796700786147267,\n",
       "   'hidden_layer_sizes': 108,\n",
       "   'learning_rate': 'adaptive',\n",
       "   'learning_rate_init': 0.02899177860096097,\n",
       "   'momentum': 0.1650630459189415,\n",
       "   'solver': 'adam',\n",
       " })]"
      ]
     },
     "execution_count": 6,
     "metadata": {},
     "output_type": "execute_result"
    }
   ],
   "source": [
    "incumbents"
   ]
  },
  {
   "cell_type": "markdown",
   "metadata": {},
   "source": [
    "The cells below are just used by me for testing and generating validation scores."
   ]
  },
  {
   "cell_type": "code",
   "execution_count": 52,
   "metadata": {},
   "outputs": [
    {
     "data": {
      "text/plain": [
       "0.7457166976714453"
      ]
     },
     "execution_count": 52,
     "metadata": {},
     "output_type": "execute_result"
    }
   ],
   "source": [
    "clf = GradientBoostingClassifier()\n",
    "values={\n",
    "  'ccp_alpha': 0.0008966736741063057,\n",
    "  'learning_rate': 0.4312350953167421,\n",
    "  'loss': 'exponential',\n",
    "  'max_depth': 33,\n",
    "  'max_features': None,\n",
    "  'max_leaf_nodes': 33,\n",
    "  'min_impurity_decrease': 0.06360397078117137,\n",
    "  'min_samples_leaf': 0.11120704068946179,\n",
    "  'min_samples_split': 0.21042060422634004,\n",
    "  'min_weight_fraction_leaf': 0.19354830546561044,\n",
    "  'n_estimators': 188,\n",
    "  'subsample': 0.9227895485953006,\n",
    "}\n",
    "clf.set_params(**values)\n",
    "\n",
    "pipe = make_pipeline(SMOTE(), clf)\n",
    "\n",
    "cv_result = cross_val_score(pipe, X, y, scoring=\"f1_macro\", cv=5)\n",
    "mean_f1 = cv_result.mean()\n",
    "mean_f1\n",
    "\n"
   ]
  },
  {
   "cell_type": "code",
   "execution_count": null,
   "metadata": {},
   "outputs": [],
   "source": [
    "mlp = CatBoostClassifier()\n",
    "mlp.set_params(**hp)\n",
    "mlp.fit(X_train, y_train)\n",
    "\n",
    "pred = mlp.predict(X_test)\n",
    "f1_score(y_test, pred)"
   ]
  },
  {
   "cell_type": "code",
   "execution_count": null,
   "metadata": {},
   "outputs": [],
   "source": [
    "x = LGBMClassifier()\n",
    "x.get_params()"
   ]
  }
 ],
 "metadata": {
  "kernelspec": {
   "display_name": "SMAC",
   "language": "python",
   "name": "python3"
  },
  "language_info": {
   "codemirror_mode": {
    "name": "ipython",
    "version": 3
   },
   "file_extension": ".py",
   "mimetype": "text/x-python",
   "name": "python",
   "nbconvert_exporter": "python",
   "pygments_lexer": "ipython3",
   "version": "3.10.13"
  }
 },
 "nbformat": 4,
 "nbformat_minor": 2
}
